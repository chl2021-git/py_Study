{
 "cells": [
  {
   "cell_type": "code",
   "execution_count": 2,
   "id": "9458db4a",
   "metadata": {},
   "outputs": [],
   "source": [
    "import random\n"
   ]
  },
  {
   "cell_type": "code",
   "execution_count": 4,
   "id": "60492f49",
   "metadata": {},
   "outputs": [
    {
     "name": "stdout",
     "output_type": "stream",
     "text": [
      "36.6\n",
      "36.7\n",
      "36.0\n",
      "35.8\n",
      "35.7\n",
      "35.6\n",
      "36.3\n",
      "36.5\n",
      "35.5\n",
      "36.5\n"
     ]
    }
   ],
   "source": [
    "for i in range(7):\n",
    "    print('{0:.1f}'.format(random.uniform(35.5,36.9)) ) \n"
   ]
  },
  {
   "cell_type": "code",
   "execution_count": 22,
   "id": "152dcfdc",
   "metadata": {},
   "outputs": [
    {
     "ename": "SyntaxError",
     "evalue": "invalid decimal literal (3759836099.py, line 2)",
     "output_type": "error",
     "traceback": [
      "\u001b[1;36m  Input \u001b[1;32mIn [22]\u001b[1;36m\u001b[0m\n\u001b[1;33m    print(f'random.uniform(36.4,36.7)' :.2f )\u001b[0m\n\u001b[1;37m                                         ^\u001b[0m\n\u001b[1;31mSyntaxError\u001b[0m\u001b[1;31m:\u001b[0m invalid decimal literal\n"
     ]
    }
   ],
   "source": [
    "for i in range(10):\n",
    "    print(f'random.uniform(36.4,36.7)' :.2f ) \n"
   ]
  },
  {
   "cell_type": "code",
   "execution_count": null,
   "id": "08bc519d",
   "metadata": {},
   "outputs": [],
   "source": []
  }
 ],
 "metadata": {
  "kernelspec": {
   "display_name": "Python 3 (ipykernel)",
   "language": "python",
   "name": "python3"
  },
  "language_info": {
   "codemirror_mode": {
    "name": "ipython",
    "version": 3
   },
   "file_extension": ".py",
   "mimetype": "text/x-python",
   "name": "python",
   "nbconvert_exporter": "python",
   "pygments_lexer": "ipython3",
   "version": "3.10.4"
  }
 },
 "nbformat": 4,
 "nbformat_minor": 5
}
