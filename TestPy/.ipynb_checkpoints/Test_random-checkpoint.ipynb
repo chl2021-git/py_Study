{
 "cells": [
  {
   "cell_type": "code",
   "execution_count": 2,
   "id": "593018c5",
   "metadata": {},
   "outputs": [],
   "source": [
    "import random\n"
   ]
  },
  {
   "cell_type": "code",
   "execution_count": 18,
   "id": "0277ccd8",
   "metadata": {},
   "outputs": [
    {
     "name": "stdout",
     "output_type": "stream",
     "text": [
      "36.4\n",
      "36.6\n",
      "36.5\n",
      "36.7\n",
      "36.6\n",
      "36.5\n",
      "36.4\n",
      "36.5\n",
      "36.6\n",
      "36.7\n"
     ]
    }
   ],
   "source": [
    "for i in range(10):\n",
    "    print('{0:.1f}'.format(random.uniform(36.4,36.7)) ) \n"
   ]
  },
  {
   "cell_type": "code",
   "execution_count": null,
   "id": "6f8f9588",
   "metadata": {},
   "outputs": [],
   "source": []
  }
 ],
 "metadata": {
  "kernelspec": {
   "display_name": "Python 3 (ipykernel)",
   "language": "python",
   "name": "python3"
  },
  "language_info": {
   "codemirror_mode": {
    "name": "ipython",
    "version": 3
   },
   "file_extension": ".py",
   "mimetype": "text/x-python",
   "name": "python",
   "nbconvert_exporter": "python",
   "pygments_lexer": "ipython3",
   "version": "3.10.4"
  }
 },
 "nbformat": 4,
 "nbformat_minor": 5
}
